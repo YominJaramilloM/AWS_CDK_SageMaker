{
 "cells": [
  {
   "cell_type": "code",
   "execution_count": null,
   "id": "d47e458e",
   "metadata": {},
   "outputs": [],
   "source": [
    "import pandas as pd\n",
    "import joblib\n",
    "import os\n",
    "import tarfile\n",
    "from scipy.stats import randint\n",
    "from sklearn.ensemble import RandomForestRegressor\n",
    "from sklearn.model_selection import RandomizedSearchCV\n",
    "from sklearn.metrics import mean_squared_error, r2_score"
   ]
  },
  {
   "cell_type": "code",
   "execution_count": null,
   "id": "a911a5fd",
   "metadata": {},
   "outputs": [
    {
     "name": "stdout",
     "output_type": "stream",
     "text": [
      "(16512,) (4128,)\n"
     ]
    },
    {
     "data": {
      "text/html": [
       "<div>\n",
       "<style scoped>\n",
       "    .dataframe tbody tr th:only-of-type {\n",
       "        vertical-align: middle;\n",
       "    }\n",
       "\n",
       "    .dataframe tbody tr th {\n",
       "        vertical-align: top;\n",
       "    }\n",
       "\n",
       "    .dataframe thead th {\n",
       "        text-align: right;\n",
       "    }\n",
       "</style>\n",
       "<table border=\"1\" class=\"dataframe\">\n",
       "  <thead>\n",
       "    <tr style=\"text-align: right;\">\n",
       "      <th></th>\n",
       "      <th>0</th>\n",
       "      <th>1</th>\n",
       "      <th>2</th>\n",
       "      <th>3</th>\n",
       "      <th>4</th>\n",
       "      <th>5</th>\n",
       "      <th>6</th>\n",
       "      <th>7</th>\n",
       "      <th>8</th>\n",
       "      <th>9</th>\n",
       "      <th>10</th>\n",
       "      <th>11</th>\n",
       "      <th>12</th>\n",
       "    </tr>\n",
       "  </thead>\n",
       "  <tbody>\n",
       "    <tr>\n",
       "      <th>0</th>\n",
       "      <td>1.272587</td>\n",
       "      <td>-1.372811</td>\n",
       "      <td>0.348490</td>\n",
       "      <td>0.222569</td>\n",
       "      <td>0.211228</td>\n",
       "      <td>0.768276</td>\n",
       "      <td>0.322906</td>\n",
       "      <td>-0.326196</td>\n",
       "      <td>0.0</td>\n",
       "      <td>0.0</td>\n",
       "      <td>0.0</td>\n",
       "      <td>0.0</td>\n",
       "      <td>1.0</td>\n",
       "    </tr>\n",
       "    <tr>\n",
       "      <th>1</th>\n",
       "      <td>0.709162</td>\n",
       "      <td>-0.876696</td>\n",
       "      <td>1.618118</td>\n",
       "      <td>0.340293</td>\n",
       "      <td>0.593094</td>\n",
       "      <td>-0.098901</td>\n",
       "      <td>0.672027</td>\n",
       "      <td>-0.035843</td>\n",
       "      <td>0.0</td>\n",
       "      <td>0.0</td>\n",
       "      <td>0.0</td>\n",
       "      <td>0.0</td>\n",
       "      <td>1.0</td>\n",
       "    </tr>\n",
       "    <tr>\n",
       "      <th>2</th>\n",
       "      <td>-0.447603</td>\n",
       "      <td>-0.460146</td>\n",
       "      <td>-1.952710</td>\n",
       "      <td>-0.342597</td>\n",
       "      <td>-0.495226</td>\n",
       "      <td>-0.449818</td>\n",
       "      <td>-0.430461</td>\n",
       "      <td>0.144701</td>\n",
       "      <td>0.0</td>\n",
       "      <td>0.0</td>\n",
       "      <td>0.0</td>\n",
       "      <td>0.0</td>\n",
       "      <td>1.0</td>\n",
       "    </tr>\n",
       "    <tr>\n",
       "      <th>3</th>\n",
       "      <td>1.232698</td>\n",
       "      <td>-1.382172</td>\n",
       "      <td>0.586545</td>\n",
       "      <td>-0.561490</td>\n",
       "      <td>-0.409306</td>\n",
       "      <td>-0.007434</td>\n",
       "      <td>-0.380587</td>\n",
       "      <td>-1.017864</td>\n",
       "      <td>0.0</td>\n",
       "      <td>0.0</td>\n",
       "      <td>0.0</td>\n",
       "      <td>0.0</td>\n",
       "      <td>1.0</td>\n",
       "    </tr>\n",
       "    <tr>\n",
       "      <th>4</th>\n",
       "      <td>-0.108551</td>\n",
       "      <td>0.532084</td>\n",
       "      <td>1.142008</td>\n",
       "      <td>-0.119565</td>\n",
       "      <td>-0.256559</td>\n",
       "      <td>-0.485877</td>\n",
       "      <td>-0.314962</td>\n",
       "      <td>-0.171488</td>\n",
       "      <td>0.0</td>\n",
       "      <td>1.0</td>\n",
       "      <td>0.0</td>\n",
       "      <td>0.0</td>\n",
       "      <td>0.0</td>\n",
       "    </tr>\n",
       "  </tbody>\n",
       "</table>\n",
       "</div>"
      ],
      "text/plain": [
       "          0         1         2         3         4         5         6  \\\n",
       "0  1.272587 -1.372811  0.348490  0.222569  0.211228  0.768276  0.322906   \n",
       "1  0.709162 -0.876696  1.618118  0.340293  0.593094 -0.098901  0.672027   \n",
       "2 -0.447603 -0.460146 -1.952710 -0.342597 -0.495226 -0.449818 -0.430461   \n",
       "3  1.232698 -1.382172  0.586545 -0.561490 -0.409306 -0.007434 -0.380587   \n",
       "4 -0.108551  0.532084  1.142008 -0.119565 -0.256559 -0.485877 -0.314962   \n",
       "\n",
       "          7    8    9   10   11   12  \n",
       "0 -0.326196  0.0  0.0  0.0  0.0  1.0  \n",
       "1 -0.035843  0.0  0.0  0.0  0.0  1.0  \n",
       "2  0.144701  0.0  0.0  0.0  0.0  1.0  \n",
       "3 -1.017864  0.0  0.0  0.0  0.0  1.0  \n",
       "4 -0.171488  0.0  1.0  0.0  0.0  0.0  "
      ]
     },
     "execution_count": 23,
     "metadata": {},
     "output_type": "execute_result"
    }
   ],
   "source": [
    "''' Local testing\n",
    "bucket_name = 'mpsgroupstack-processeddatabucket4e25d3b7-j2zcvjx9ql0b'\n",
    "file_key_X_train = 'X_train.csv'\n",
    "file_key_X_test = 'X_test.csv'\n",
    "file_key_y_train = 'y_train.csv'\n",
    "file_key_y_test = 'y_test.csv'\n",
    "s3_uri_X_train = f's3://{bucket_name}/processed/{file_key_X_train}'\n",
    "s3_uri_X_test = f's3://{bucket_name}/processed/{file_key_X_test}'\n",
    "s3_uri_y_train = f's3://{bucket_name}/processed/{file_key_y_train}'\n",
    "s3_uri_y_test = f's3://{bucket_name}/processed/{file_key_y_test}'\n",
    "\n",
    "# Cargar datos desde S3 procced bucket\n",
    "X_train = pd.read_csv(s3_uri_X_train)\n",
    "X_test = pd.read_csv(s3_uri_X_test)\n",
    "y_train = pd.read_csv(s3_uri_y_train).squeeze()  # Size convertion\n",
    "y_test = pd.read_csv(s3_uri_y_test).squeeze()  \n",
    "'''\n",
    "input_dir = \"/opt/ml/processing/input\"\n",
    "model_dir = \"/opt/ml/model\"\n",
    "\n",
    "X_train = pd.read_csv(f\"{input_dir}/X_train.csv\")\n",
    "X_test = pd.read_csv(f\"{input_dir}/X_test.csv\")\n",
    "y_train = pd.read_csv(f\"{input_dir}/y_train.csv\").squeeze()\n",
    "y_test = pd.read_csv(f\"{input_dir}/y_test.csv\").squeeze()\n",
    "\n",
    "print(y_train.shape, y_test.shape)\n"
   ]
  },
  {
   "cell_type": "code",
   "execution_count": 24,
   "id": "3a589d51",
   "metadata": {},
   "outputs": [],
   "source": [
    "param_grid = {\n",
    "    'n_estimators': randint(20, 100),\n",
    "    'max_depth': randint(5, 12),\n",
    "    'min_samples_split': randint(2, 50)\n",
    "}"
   ]
  },
  {
   "cell_type": "code",
   "execution_count": 25,
   "id": "7773ce96",
   "metadata": {},
   "outputs": [
    {
     "name": "stdout",
     "output_type": "stream",
     "text": [
      "Best parameters:\n",
      "{'max_depth': 11, 'min_samples_split': 9, 'n_estimators': 97}\n"
     ]
    }
   ],
   "source": [
    "model= RandomForestRegressor(random_state=42, n_jobs=-1)\n",
    "randomS = RandomizedSearchCV(model, param_grid, n_iter=50,cv=10, scoring='r2', n_jobs=-1, random_state=42)\n",
    "randomS.fit(X_train, y_train)\n",
    "print(\"Best parameters:\")\n",
    "print(randomS.best_params_)"
   ]
  },
  {
   "cell_type": "code",
   "execution_count": 26,
   "id": "a2f99fe6",
   "metadata": {},
   "outputs": [
    {
     "name": "stdout",
     "output_type": "stream",
     "text": [
      "Mean Squared Error: 1674005042.5748951\n",
      "R^2 Score: 0.8747731652258117\n"
     ]
    }
   ],
   "source": [
    "best_model = randomS.best_estimator_\n",
    "y_pred_train = best_model.predict(X_train)\n",
    "mse = mean_squared_error(y_train, y_pred_train)\n",
    "r2 = r2_score(y_train, y_pred_train)\n",
    "print(f'Mean Squared Error: {mse}')\n",
    "print(f'R^2 Score: {r2}')"
   ]
  },
  {
   "cell_type": "code",
   "execution_count": 27,
   "id": "716c29bf",
   "metadata": {},
   "outputs": [
    {
     "name": "stdout",
     "output_type": "stream",
     "text": [
      "Mean Squared Error: 2721477737.5559387\n",
      "R^2 Score: 0.7923184454055507\n"
     ]
    }
   ],
   "source": [
    "y_pred_test = best_model.predict(X_test)\n",
    "mse = mean_squared_error(y_test, y_pred_test)\n",
    "r2 = r2_score(y_test, y_pred_test)\n",
    "print(f'Mean Squared Error: {mse}')\n",
    "print(f'R^2 Score: {r2}')"
   ]
  },
  {
   "cell_type": "code",
   "execution_count": null,
   "id": "d7c2aa27",
   "metadata": {},
   "outputs": [],
   "source": [
    "\n",
    "\n",
    "# save model as .joblib\n",
    "model_path = os.path.join(model_dir, \"model.joblib\")\n",
    "joblib.dump(best_model, model_path)\n",
    "\n",
    "assert os.path.exists(model_path), \"Model file not found before archiving!\"\n",
    "\n",
    "#  .tar.gz\n",
    "with tarfile.open(os.path.join(model_dir, \"model.tar.gz\"), mode=\"w:gz\") as archive:\n",
    "    archive.add(model_path, arcname=\"model.joblib\")\n",
    "\n",
    "print(\"Model packaged correctly.\")\n"
   ]
  }
 ],
 "metadata": {
  "kernelspec": {
   "display_name": ".venv",
   "language": "python",
   "name": "python3"
  },
  "language_info": {
   "codemirror_mode": {
    "name": "ipython",
    "version": 3
   },
   "file_extension": ".py",
   "mimetype": "text/x-python",
   "name": "python",
   "nbconvert_exporter": "python",
   "pygments_lexer": "ipython3",
   "version": "3.12.3"
  }
 },
 "nbformat": 4,
 "nbformat_minor": 5
}
